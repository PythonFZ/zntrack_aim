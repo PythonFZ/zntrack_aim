{
 "cells": [
  {
   "cell_type": "code",
   "execution_count": 8,
   "metadata": {},
   "outputs": [],
   "source": [
    "import aim"
   ]
  },
  {
   "cell_type": "code",
   "execution_count": 13,
   "metadata": {},
   "outputs": [],
   "source": [
    "repo = aim.Repo(\".\")"
   ]
  },
  {
   "cell_type": "code",
   "execution_count": 25,
   "metadata": {},
   "outputs": [
    {
     "name": "stderr",
     "output_type": "stream",
     "text": [
      "100%|██████████| 3/3 [00:00<00:00, 1279.92it/s]\n"
     ]
    },
    {
     "ename": "TypeError",
     "evalue": "keywords must be strings",
     "output_type": "error",
     "traceback": [
      "\u001b[0;31m---------------------------------------------------------------------------\u001b[0m",
      "\u001b[0;31mTypeError\u001b[0m                                 Traceback (most recent call last)",
      "Cell \u001b[0;32mIn[25], line 1\u001b[0m\n\u001b[0;32m----> 1\u001b[0m \u001b[38;5;28;43mlist\u001b[39;49m\u001b[43m(\u001b[49m\u001b[43mrepo\u001b[49m\u001b[38;5;241;43m.\u001b[39;49m\u001b[43mquery_runs\u001b[49m\u001b[43m(\u001b[49m\u001b[38;5;124;43m\"\u001b[39;49m\u001b[38;5;124;43mrun.seed == 42\u001b[39;49m\u001b[38;5;124;43m\"\u001b[39;49m\u001b[43m)\u001b[49m\u001b[43m)\u001b[49m\n",
      "File \u001b[0;32m/opt/homebrew/Caskroom/miniconda/base/envs/zntrack/lib/python3.11/site-packages/aim/sdk/sequence_collection.py:240\u001b[0m, in \u001b[0;36mQueryRunSequenceCollection.iter\u001b[0;34m(self)\u001b[0m\n\u001b[1;32m    238\u001b[0m \u001b[38;5;28;01melse\u001b[39;00m:\n\u001b[1;32m    239\u001b[0m     \u001b[38;5;28;01mfor\u001b[39;00m run_seq \u001b[38;5;129;01min\u001b[39;00m \u001b[38;5;28mself\u001b[39m\u001b[38;5;241m.\u001b[39miter_runs():\n\u001b[0;32m--> 240\u001b[0m         \u001b[38;5;28;01myield from\u001b[39;00m run_seq\n",
      "File \u001b[0;32m/opt/homebrew/Caskroom/miniconda/base/envs/zntrack/lib/python3.11/site-packages/aim/sdk/sequence_collection.py:123\u001b[0m, in \u001b[0;36mSingleRunSequenceCollection.iter\u001b[0;34m(self)\u001b[0m\n\u001b[1;32m    121\u001b[0m run_view \u001b[38;5;241m=\u001b[39m RunView(run, \u001b[38;5;28mself\u001b[39m\u001b[38;5;241m.\u001b[39mruns_proxy_cache, \u001b[38;5;28mself\u001b[39m\u001b[38;5;241m.\u001b[39m_timezone_offset)\n\u001b[1;32m    122\u001b[0m seq_view \u001b[38;5;241m=\u001b[39m SequenceView(seq_name, ctx\u001b[38;5;241m.\u001b[39mto_dict(), run_view)\n\u001b[0;32m--> 123\u001b[0m match \u001b[38;5;241m=\u001b[39m \u001b[38;5;28;43mself\u001b[39;49m\u001b[38;5;241;43m.\u001b[39;49m\u001b[43mquery\u001b[49m\u001b[38;5;241;43m.\u001b[39;49m\u001b[43mcheck\u001b[49m\u001b[43m(\u001b[49m\u001b[38;5;241;43m*\u001b[39;49m\u001b[38;5;241;43m*\u001b[39;49m\u001b[43m{\u001b[49m\u001b[38;5;124;43m'\u001b[39;49m\u001b[38;5;124;43mrun\u001b[39;49m\u001b[38;5;124;43m'\u001b[39;49m\u001b[43m:\u001b[49m\u001b[43m \u001b[49m\u001b[43mrun_view\u001b[49m\u001b[43m,\u001b[49m\u001b[43m \u001b[49m\u001b[43mseq_var\u001b[49m\u001b[43m:\u001b[49m\u001b[43m \u001b[49m\u001b[43mseq_view\u001b[49m\u001b[43m}\u001b[49m\u001b[43m)\u001b[49m\n\u001b[1;32m    124\u001b[0m \u001b[38;5;28;01mif\u001b[39;00m \u001b[38;5;129;01mnot\u001b[39;00m match:\n\u001b[1;32m    125\u001b[0m     \u001b[38;5;28;01mcontinue\u001b[39;00m\n",
      "\u001b[0;31mTypeError\u001b[0m: keywords must be strings"
     ]
    }
   ],
   "source": [
    "list(repo.query_runs(\"run.seed == 42\"))"
   ]
  },
  {
   "cell_type": "code",
   "execution_count": 59,
   "metadata": {},
   "outputs": [
    {
     "name": "stderr",
     "output_type": "stream",
     "text": [
      "100%|██████████| 5/5 [00:00<00:00, 1753.76it/s]"
     ]
    },
    {
     "name": "stdout",
     "output_type": "stream",
     "text": [
      "2acb7326abbb48358a500b96\n",
      "2acb7326abbb48358a500b96\n",
      "2acb7326abbb48358a500b96\n",
      "2acb7326abbb48358a500b96\n",
      "03a5c75db7a240198d9a164d\n",
      "03a5c75db7a240198d9a164d\n",
      "03a5c75db7a240198d9a164d\n",
      "03a5c75db7a240198d9a164d\n"
     ]
    },
    {
     "name": "stderr",
     "output_type": "stream",
     "text": [
      "\n"
     ]
    }
   ],
   "source": [
    "# for run_metrics_col in repo.query_metrics(\"run.hparams.learning_rate > 0\").iter_runs():\n",
    "for run_metrics_col in repo.query_metrics(\"run.dvc_stage_hash == 'de48848eb76c72e4c8dcb2957ebf88afa28b3438c682ad814a92d0a3d66fb094'\").iter():\n",
    "    print(run_metrics_col.run.hash)\n",
    "    # for metric in run_metrics_col:\n",
    "    #     print(metric)"
   ]
  },
  {
   "cell_type": "code",
   "execution_count": 57,
   "metadata": {},
   "outputs": [
    {
     "data": {
      "text/plain": [
       "<Run#3979802641006981832 name=f5b3822806304cb180f424bf repo=<Repo#-1807423614185304026 path=/Users/fzills/tmp/zntrack_aim/.aim read_only=None>>"
      ]
     },
     "execution_count": 57,
     "metadata": {},
     "output_type": "execute_result"
    }
   ],
   "source": [
    "aim.Run(run_hash=\"f5b3822806304cb180f424bf\")"
   ]
  },
  {
   "cell_type": "code",
   "execution_count": null,
   "metadata": {},
   "outputs": [],
   "source": []
  }
 ],
 "metadata": {
  "kernelspec": {
   "display_name": "zntrack",
   "language": "python",
   "name": "python3"
  },
  "language_info": {
   "codemirror_mode": {
    "name": "ipython",
    "version": 3
   },
   "file_extension": ".py",
   "mimetype": "text/x-python",
   "name": "python",
   "nbconvert_exporter": "python",
   "pygments_lexer": "ipython3",
   "version": "3.11.7"
  }
 },
 "nbformat": 4,
 "nbformat_minor": 2
}
